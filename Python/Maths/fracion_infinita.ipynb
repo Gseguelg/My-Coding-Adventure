{
 "cells": [
  {
   "cell_type": "markdown",
   "metadata": {},
   "source": [
    "# Resuelve la fracción infinita, en forma recursiva\n",
    "\n",
    "$\\sqrt(2) = 1 + \\frac{b}{a+\\frac{b}{a+\\frac{b}{a+...}}} = 1 + \\frac{1}{2+\\frac{1}{2+...}}$\n",
    "\n",
    "donde,\n",
    "    a = 2\n",
    "    b = 1\n",
    "\n",
    "https://en.wikipedia.org/wiki/Continued_fraction\n"
   ]
  },
  {
   "cell_type": "markdown",
   "metadata": {},
   "source": [
    "## Niveles\n",
    "#### n = 0\n",
    "inffrac = 1\n",
    "#### n = 1\n",
    "inffrac = 1+1/2 = 3/2 = 1.5\n",
    "#### n = 2\n",
    "inffrac = 1+1/(2+1/2) = 7/5 = 1.4\n",
    "#### n = 3\n",
    "inffrac = 1+1/(2+1/(2+1/2)) = 17/12 = 1.417\n",
    "#### n = 4\n",
    "inffrac = 41/29 = 1.4137931034482758\n",
    "#### n = 5\n",
    "inffrac = 99/70 = 1.4142857142857144\n",
    "#### n = 6\n",
    "inffrac = 239/169 = 1.4142011834319526\n",
    "#### n = 7 \n",
    "iffrac = 577/408 = 1.4142156862745099"
   ]
  },
  {
   "cell_type": "code",
   "execution_count": 30,
   "metadata": {},
   "outputs": [
    {
     "data": {
      "text/plain": [
       "[1,\n",
       " 1.5,\n",
       " 1.4,\n",
       " 1.4166666666666667,\n",
       " 1.4137931034482758,\n",
       " 1.4142857142857144,\n",
       " 1.4142011834319526]"
      ]
     },
     "execution_count": 30,
     "metadata": {},
     "output_type": "execute_result"
    }
   ],
   "source": [
    "def inffrac(n):\n",
    "    def core(n):\n",
    "        if n == 0:\n",
    "            return 0\n",
    "        elif n == 1:\n",
    "            return 1/2\n",
    "        return 1/(2+core(n-1))\n",
    "    return core(n)+1\n",
    "\n",
    "[inffrac(i) for i in range(7)]"
   ]
  },
  {
   "cell_type": "code",
   "execution_count": 31,
   "metadata": {},
   "outputs": [
    {
     "data": {
      "text/plain": [
       "1.4142135623730951"
      ]
     },
     "execution_count": 31,
     "metadata": {},
     "output_type": "execute_result"
    }
   ],
   "source": [
    "import math\n",
    "math.sqrt(2)"
   ]
  }
 ],
 "metadata": {
  "kernelspec": {
   "display_name": "Python 3",
   "language": "python",
   "name": "python3"
  },
  "language_info": {
   "codemirror_mode": {
    "name": "ipython",
    "version": 3
   },
   "file_extension": ".py",
   "mimetype": "text/x-python",
   "name": "python",
   "nbconvert_exporter": "python",
   "pygments_lexer": "ipython3",
   "version": "3.7.4"
  }
 },
 "nbformat": 4,
 "nbformat_minor": 2
}
